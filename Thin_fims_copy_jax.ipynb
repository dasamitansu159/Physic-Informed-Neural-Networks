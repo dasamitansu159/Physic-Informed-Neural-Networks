{
  "metadata": {
    "colab": {
      "provenance": [],
      "name": "Thin_fims_copy_jax",
      "include_colab_link": true
    },
    "kernelspec": {
      "name": "python3",
      "display_name": "Python 3",
      "language": "python"
    },
    "language_info": {
      "name": "python",
      "version": "3.10.13",
      "mimetype": "text/x-python",
      "codemirror_mode": {
        "name": "ipython",
        "version": 3
      },
      "pygments_lexer": "ipython3",
      "nbconvert_exporter": "python",
      "file_extension": ".py"
    },
    "kaggle": {
      "accelerator": "nvidiaTeslaT4",
      "dataSources": [],
      "dockerImageVersionId": 30733,
      "isInternetEnabled": false,
      "language": "python",
      "sourceType": "notebook",
      "isGpuEnabled": true
    }
  },
  "nbformat_minor": 0,
  "nbformat": 4,
  "cells": [
    {
      "cell_type": "markdown",
      "metadata": {
        "id": "view-in-github",
        "colab_type": "text"
      },
      "source": [
        "<a href=\"https://colab.research.google.com/github/dasamitansu159/Physic-Informed-Neural-Networks/blob/main/Thin_fims_copy_jax.ipynb\" target=\"_parent\"><img src=\"https://colab.research.google.com/assets/colab-badge.svg\" alt=\"Open In Colab\"/></a>"
      ]
    },
    {
      "cell_type": "code",
      "source": [
        "import numpy as np\n",
        "d0 = 0.158\n",
        "s = -0.015\n",
        "l0 = 0.137\n",
        "h0 = 1\n",
        "gama = 0.0001\n",
        "mu = 0.01\n",
        "\n",
        "def phi_h(h):\n",
        "  return 6 * s * (d0**2 / h ** 4) * (1 - 3 * ((l0/h) ** 6))\n",
        "phi_h0 = phi_h(h0)\n",
        "print(phi_h0)\n",
        "lambda_n = 2 * np.pi / (np.sqrt(- phi_h0/ gama))"
      ],
      "metadata": {
        "id": "Ju896dskntQ5",
        "execution": {
          "iopub.status.busy": "2024-07-08T18:10:05.019375Z",
          "iopub.execute_input": "2024-07-08T18:10:05.019646Z",
          "iopub.status.idle": "2024-07-08T18:10:05.033477Z",
          "shell.execute_reply.started": "2024-07-08T18:10:05.01962Z",
          "shell.execute_reply": "2024-07-08T18:10:05.032511Z"
        },
        "trusted": true
      },
      "execution_count": null,
      "outputs": []
    },
    {
      "cell_type": "code",
      "source": [
        "import numpy as onp\n",
        "import jax.numpy as np\n",
        "from jax import random, grad, vmap, jit, jacfwd, jacrev\n",
        "from jax.example_libraries import optimizers\n",
        "from jax.nn import relu\n",
        "from jax import lax\n",
        "from jax.flatten_util import ravel_pytree\n",
        "import itertools\n",
        "from functools import partial\n",
        "from torch.utils import data\n",
        "from tqdm import trange"
      ],
      "metadata": {
        "id": "IkS1jUzL7znG",
        "execution": {
          "iopub.status.busy": "2024-07-08T18:10:05.035025Z",
          "iopub.execute_input": "2024-07-08T18:10:05.035343Z",
          "iopub.status.idle": "2024-07-08T18:10:09.840196Z",
          "shell.execute_reply.started": "2024-07-08T18:10:05.035319Z",
          "shell.execute_reply": "2024-07-08T18:10:09.83928Z"
        },
        "trusted": true
      },
      "execution_count": null,
      "outputs": []
    },
    {
      "cell_type": "code",
      "source": [
        "t_dwet = 12 * mu * gama / ((h0 ** 3) * (phi_h0 ** 2)) * np.log(h0/0.001)\n",
        "print(t_dwet)"
      ],
      "metadata": {
        "id": "EPyxe4L4hL79",
        "execution": {
          "iopub.status.busy": "2024-07-08T18:10:09.841371Z",
          "iopub.execute_input": "2024-07-08T18:10:09.841844Z",
          "iopub.status.idle": "2024-07-08T18:10:11.230391Z",
          "shell.execute_reply.started": "2024-07-08T18:10:09.84179Z",
          "shell.execute_reply": "2024-07-08T18:10:11.229241Z"
        },
        "trusted": true
      },
      "execution_count": null,
      "outputs": []
    },
    {
      "cell_type": "code",
      "source": [
        "lambda_n"
      ],
      "metadata": {
        "id": "LBJ8lcbwn7S0",
        "execution": {
          "iopub.status.busy": "2024-07-08T18:10:11.232252Z",
          "iopub.execute_input": "2024-07-08T18:10:11.232535Z",
          "iopub.status.idle": "2024-07-08T18:10:11.239917Z",
          "shell.execute_reply.started": "2024-07-08T18:10:11.232511Z",
          "shell.execute_reply": "2024-07-08T18:10:11.238809Z"
        },
        "trusted": true
      },
      "execution_count": null,
      "outputs": []
    },
    {
      "cell_type": "code",
      "source": [
        "x_star = ((np.square(h0)) / d0) * np.sqrt(gama/ (6 * abs(s)))\n",
        "t_star = ((np.power(h0, 5))/np.power(d0, 4)) * ((mu * gama) / (12 * np.square(s)))\n",
        "print(x_star, t_star)\n",
        "domain = lambda_n / x_star\n",
        "t_domain = t_dwet / t_star"
      ],
      "metadata": {
        "id": "_Wr7wogooNCR",
        "execution": {
          "iopub.status.busy": "2024-07-08T18:10:11.2412Z",
          "iopub.execute_input": "2024-07-08T18:10:11.242227Z",
          "iopub.status.idle": "2024-07-08T18:10:11.808056Z",
          "shell.execute_reply.started": "2024-07-08T18:10:11.242191Z",
          "shell.execute_reply": "2024-07-08T18:10:11.807154Z"
        },
        "trusted": true
      },
      "execution_count": null,
      "outputs": []
    },
    {
      "cell_type": "code",
      "source": [
        "domain, t_domain"
      ],
      "metadata": {
        "id": "KXzifJnYhL8B",
        "execution": {
          "iopub.status.busy": "2024-07-08T18:10:11.809373Z",
          "iopub.execute_input": "2024-07-08T18:10:11.809898Z",
          "iopub.status.idle": "2024-07-08T18:10:11.816838Z",
          "shell.execute_reply.started": "2024-07-08T18:10:11.809867Z",
          "shell.execute_reply": "2024-07-08T18:10:11.815782Z"
        },
        "trusted": true
      },
      "execution_count": null,
      "outputs": []
    },
    {
      "cell_type": "code",
      "source": [
        "def MLP(layers, L=1.0, M=1, activation=np.tanh):\n",
        "\n",
        "    def input_encoding(t, x):\n",
        "        w = 2.0 * np.pi / L\n",
        "        k = np.arange(1, M + 1)\n",
        "        out = np.hstack([t, x])\n",
        "        return out\n",
        "\n",
        "    def init(rng_key):\n",
        "      def init_layer(key, d_in, d_out):\n",
        "          k1, k2 = random.split(key)\n",
        "          glorot_stddev = 1.0 / np.sqrt((d_in + d_out) / 2.)\n",
        "          W = glorot_stddev * random.normal(k1, (d_in, d_out))\n",
        "          b = np.zeros(d_out)\n",
        "          return W, b\n",
        "      key, *keys = random.split(rng_key, len(layers))\n",
        "      params = list(map(init_layer, keys, layers[:-1], layers[1:]))\n",
        "      return params\n",
        "\n",
        "    def apply(params, inputs):\n",
        "        t = inputs[0]\n",
        "        x = inputs[1]\n",
        "        H = input_encoding(t, x)\n",
        "        for W, b in params[:-1]:\n",
        "            outputs = np.dot(H, W) + b\n",
        "            H = activation(outputs)\n",
        "        W, b = params[-1]\n",
        "        outputs = np.dot(H, W) + b\n",
        "        return outputs\n",
        "\n",
        "    return init, apply\n"
      ],
      "metadata": {
        "id": "cqumPD7lXWm9",
        "execution": {
          "iopub.status.busy": "2024-07-08T18:10:11.820554Z",
          "iopub.execute_input": "2024-07-08T18:10:11.820908Z",
          "iopub.status.idle": "2024-07-08T18:10:11.833519Z",
          "shell.execute_reply.started": "2024-07-08T18:10:11.820878Z",
          "shell.execute_reply": "2024-07-08T18:10:11.83259Z"
        },
        "trusted": true
      },
      "execution_count": null,
      "outputs": []
    },
    {
      "cell_type": "code",
      "source": [
        "# def modified_MLP(layers, L=1.0, M=1, activation = relu):\n",
        "#   def xavier_init(key, d_in, d_out):\n",
        "#     glorot_stddev = 1. / np.sqrt((d_in + d_out) / 2.)\n",
        "#     W = glorot_stddev * random.normal(key, (d_in, d_out))\n",
        "#     b = np.zeros(d_out)\n",
        "#     return W, b\n",
        "\n",
        "#   # Define input encoding function\n",
        "#   def input_encoding(t, x):\n",
        "#       w = 2 * np.pi / L\n",
        "#       k = np.arange(1, M + 1)\n",
        "#       out = np.hstack([t, 1,\n",
        "#                          np.cos(k * w * x), np.sin(k * w * x)])\n",
        "#       return out\n",
        "\n",
        "\n",
        "#   def init(rng_key):\n",
        "#       U1, b1 =  xavier_init(random.PRNGKey(12345), layers[0], layers[1])\n",
        "#       U2, b2 =  xavier_init(random.PRNGKey(54321), layers[0], layers[1])\n",
        "#       def init_layer(key, d_in, d_out):\n",
        "#           k1, k2 = random.split(key)\n",
        "#           W, b = xavier_init(k1, d_in, d_out)\n",
        "#           return W, b\n",
        "#       key, *keys = random.split(rng_key, len(layers))\n",
        "#       params = list(map(init_layer, keys, layers[:-1], layers[1:]))\n",
        "#       return (params, U1, b1, U2, b2)\n",
        "\n",
        "#   def apply(params, inputs):\n",
        "#       params, U1, b1, U2, b2 = params\n",
        "\n",
        "#       t = inputs[0]\n",
        "#       x = inputs[1]\n",
        "#       inputs = input_encoding(t, x)\n",
        "#       U = activation(np.dot(inputs, U1) + b1)\n",
        "#       V = activation(np.dot(inputs, U2) + b2)\n",
        "#       for W, b in params[:-1]:\n",
        "#           outputs = activation(np.dot(inputs, W) + b)\n",
        "#           inputs = np.multiply(outputs, U) + np.multiply(1 - outputs, V)\n",
        "#       W, b = params[-1]\n",
        "#       outputs = np.dot(inputs, W) + b\n",
        "#       return outputs\n",
        "#   return init, apply\n",
        "def modified_MLP(layers, L=1.0, M=1, activation = relu):\n",
        "  def xavier_init(key, d_in, d_out):\n",
        "    glorot_stddev = 1. / np.sqrt((d_in + d_out) / 2.)\n",
        "    W = glorot_stddev * random.normal(key, (d_in, d_out))\n",
        "    b = np.zeros(d_out)\n",
        "    return W, b\n",
        "\n",
        "  # Define input encoding function\n",
        "  def input_encoding(t, x):\n",
        "      w = 2 * np.pi / L\n",
        "      k = np.arange(1, M + 1)\n",
        "      out = np.hstack([t, x])\n",
        "      return out\n",
        "\n",
        "\n",
        "  def init(rng_key):\n",
        "      U1, b1 =  xavier_init(random.PRNGKey(12345), layers[0], layers[1])\n",
        "      U2, b2 =  xavier_init(random.PRNGKey(54321), layers[0], layers[1])\n",
        "      def init_layer(key, d_in, d_out):\n",
        "          k1, k2 = random.split(key)\n",
        "          W, b = xavier_init(k1, d_in, d_out)\n",
        "          return W, b\n",
        "      key, *keys = random.split(rng_key, len(layers))\n",
        "      params = list(map(init_layer, keys, layers[:-1], layers[1:]))\n",
        "      return (params, U1, b1, U2, b2)\n",
        "\n",
        "  def apply(params, inputs):\n",
        "      params, U1, b1, U2, b2 = params\n",
        "\n",
        "      t = inputs[0]\n",
        "      x = inputs[1]\n",
        "      inputs = input_encoding(t, x)\n",
        "      U = activation(np.dot(inputs, U1) + b1)\n",
        "      V = activation(np.dot(inputs, U2) + b2)\n",
        "      for W, b in params[:-1]:\n",
        "          outputs = activation(np.dot(inputs, W) + b)\n",
        "          inputs = np.multiply(outputs, U) + np.multiply(1 - outputs, V)\n",
        "      W, b = params[-1]\n",
        "      outputs = np.dot(inputs, W) + b\n",
        "      return outputs\n",
        "  return init, apply"
      ],
      "metadata": {
        "id": "E86ENUXF-HhG",
        "execution": {
          "iopub.status.busy": "2024-07-08T18:10:11.83473Z",
          "iopub.execute_input": "2024-07-08T18:10:11.835038Z",
          "iopub.status.idle": "2024-07-08T18:10:11.848914Z",
          "shell.execute_reply.started": "2024-07-08T18:10:11.835014Z",
          "shell.execute_reply": "2024-07-08T18:10:11.848022Z"
        },
        "trusted": true
      },
      "execution_count": null,
      "outputs": []
    },
    {
      "cell_type": "markdown",
      "source": [
        "## DataSet Generator"
      ],
      "metadata": {
        "id": "Ks27feD9_XAR"
      }
    },
    {
      "cell_type": "code",
      "source": [
        "class DataGenertor(data.Dataset):\n",
        "  def __init__(self, t0, t1, n_t = 10, n_x = 64, rng_key=random.PRNGKey(1234)):\n",
        "    \"Initialization\"\n",
        "    self.t0 = t0\n",
        "    self.t1 = t1\n",
        "    self.n_t = n_t\n",
        "    self.n_x = n_x\n",
        "    self.key = rng_key\n",
        "\n",
        "  def __getitem__(self, index):\n",
        "    self.key, subkey = random.split(self.key)\n",
        "    batch = self.__data_generation(subkey)\n",
        "    return batch\n",
        "\n",
        "  @partial(jit, static_argnums=(0,))\n",
        "  def __data_generation(self, key):\n",
        "    subkeys = random.split(key, 2)\n",
        "    t_r = random.uniform(subkeys[0], shape=(self.n_t,), minval=self.t0, maxval=self.t1).sort()\n",
        "    x_r = random.uniform(subkeys[1], shape=(self.n_x,), minval=0, maxval=domain)\n",
        "\n",
        "    #x_star = ((np.square(h0)) / d0) * np.sqrt(gama/ (6 * abs(s)))\n",
        "#     t_star = ((np.power(h0, 5))/np.power(d0, 4)) * ((mu * gama) / (12 * np.square(s)))\n",
        "\n",
        "    #x_r = x_r / x_star\n",
        "    #t_r = t_r / t_star\n",
        "\n",
        "    batch = (t_r, x_r)\n",
        "    return batch"
      ],
      "metadata": {
        "id": "cUx4M4BuIaq4",
        "execution": {
          "iopub.status.busy": "2024-07-08T18:10:11.851505Z",
          "iopub.execute_input": "2024-07-08T18:10:11.851789Z",
          "iopub.status.idle": "2024-07-08T18:10:11.933664Z",
          "shell.execute_reply.started": "2024-07-08T18:10:11.851754Z",
          "shell.execute_reply": "2024-07-08T18:10:11.932835Z"
        },
        "trusted": true
      },
      "execution_count": null,
      "outputs": []
    },
    {
      "cell_type": "markdown",
      "source": [
        "## Model PINN"
      ],
      "metadata": {
        "id": "y13ONjaz_a1L"
      }
    },
    {
      "cell_type": "code",
      "source": [
        "class PINN:\n",
        "  def __init__(self, key, layers, M_x, t0, t1, n_t, n_x, tol=1.0):\n",
        "\n",
        "    self.tol = tol\n",
        "    self.M = np.triu(np.ones((n_t, n_t)), k=1).T\n",
        "\n",
        "#     self.init, self.apply = modified_MLP(layers, L = 2.0, M = M_x, activation=np.tanh)\n",
        "    self.init, self.apply = modified_MLP(layers, L = 2.0, M = M_x, activation=np.tanh)\n",
        "    params = self.init(rng_key = key)\n",
        "\n",
        "\n",
        "    self.opt_init, self.opt_update, self.get_params = optimizers.adam(optimizers.exponential_decay(1e-3,\n",
        "                                                                                                   decay_steps=10000,\n",
        "                                                                                                   decay_rate = 0.9))\n",
        "    self.opt_state = self.opt_init(params)\n",
        "    _, self.unravel = ravel_pytree(params)\n",
        "\n",
        "    self.h_pred_fn = vmap(vmap(self.neural_net, (None, 0, None)), (None, None, 0))\n",
        "    self.r_pred_fn = vmap(vmap(self.residual_net, (None, 0, None)), (None, None, 0))\n",
        "\n",
        "    self.loss_log = []\n",
        "    self.loss_res_log = []\n",
        "\n",
        "    self.itercount = itertools.count()\n",
        "\n",
        "  def neural_net(self, params, t, x):\n",
        "      z = np.stack([t, x])\n",
        "      outputs = self.apply(params, z)\n",
        "      h = outputs[0]\n",
        "      return np.maximum(h, 0.137)\n",
        "\n",
        "  def h_x(self, params, t, x):\n",
        "      return np.sum(grad(self.neural_net, argnums=2)(params, t, x))\n",
        "\n",
        "  def h_xx(self, params, t, x):\n",
        "      return np.sum(grad(self.h_x, argnums=2)(params, t, x))\n",
        "\n",
        "  def h_xxx(self, params, t, x):\n",
        "      return np.sum(grad(self.h_xx, argnums=2)(params, t, x))\n",
        "\n",
        "  def exp_a(self, params, t, x):\n",
        "    h = (self.neural_net(params, t, x))\n",
        "    phi = -2 * s * (np.square(d0)/ h **3) * (1 - ((np.power(l0, 6)/ h ** 6)))\n",
        "    phi_star = 6 * h0 * np.square((d0/h0)) * abs(s)\n",
        "    #phi_dim = (1/(6 * abs(s)) * (np.power(h0, 3)/ np.square(d0)) * phi)\n",
        "    phi_dim = abs(phi / phi_star)\n",
        "\n",
        "    return np.sum(grad(self.h_x, argnums=2)(params, t, x)  - phi_dim)\n",
        "\n",
        "  def exp(self, params, t, x):\n",
        "      h = (self.neural_net(params, t, x))\n",
        "      a_x = grad(self.exp_a, argnums=2)(params, t, x)\n",
        "\n",
        "      return np.sum((h ** 3 / np.power(h0, 3)) * a_x)\n",
        "\n",
        "\n",
        "  def residual_net(self, params, t, x):\n",
        "      h = self.neural_net(params, t, x)\n",
        "      h_t = grad(self.neural_net, argnums=1)(params, t, x)\n",
        "\n",
        "      fin_x = grad(self.exp, argnums=2)(params, t, x)\n",
        "\n",
        "      res = h_t + fin_x\n",
        "      return res\n",
        "\n",
        "  @partial(jit, static_argnums=(0,))\n",
        "  def residuals_and_weights(self, params, batch, tol):\n",
        "      t_r, x_r = batch\n",
        "      r_pred = self.r_pred_fn(params, t_r, x_r)\n",
        "      L_t = np.mean(r_pred**2, axis= 1)\n",
        "      w = lax.stop_gradient(np.exp(-tol * (self.M @ L_t)))\n",
        "      return L_t, w\n",
        "\n",
        "  @partial(jit, static_argnums=(0,))\n",
        "  def boundary_loss(self, params, batch):\n",
        "      t, x = batch\n",
        "\n",
        "      loss_periodic = np.mean((self.h_pred_fn(params, t, np.zeros_like(x)) - self.h_pred_fn(params, t, np.ones_like(x) * domain)) ** 2)\n",
        "\n",
        "      return loss_periodic\n",
        "\n",
        "  def initial_condition(self, params, t, x):\n",
        "    return 1 + 0.001 * np.cos(2 * np.pi * x / domain)\n",
        "\n",
        "  @partial(jit, static_argnums=(0,))\n",
        "  def ics_loss(self, params, batch):\n",
        "    t, x = batch\n",
        "    a = self.h_pred_fn(params, np.full_like(x, 0), x)\n",
        "#       loss_ics = np.mean((a - np.full_like(a, self.initial_condition(np.full_like(x, 0), x))) ** 2)\n",
        "    initial_condition = vmap(vmap(self.initial_condition, (None, 0, None)), (None, None, 0))\n",
        "    loss_ics = np.mean((a - initial_condition(params, np.zeros_like(x), x)) ** 2)\n",
        "    return loss_ics\n",
        "\n",
        "  @partial(jit, static_argnums=(0,))\n",
        "  def loss(self, params, batch):\n",
        "      L_t, w = self.residuals_and_weights(params, batch, self.tol)\n",
        "      loss_bc = self.boundary_loss(params, batch)\n",
        "      loss_ics = self.ics_loss(params, batch)\n",
        "      loss = np.mean(L_t * w) + loss_bc + loss_ics\n",
        "      return loss\n",
        "\n",
        "  @partial(jit, static_argnums=(0,))\n",
        "  def step(self, i, opt_state, batch):\n",
        "      params = self.get_params(opt_state)\n",
        "      g = grad(self.loss)(params, batch)\n",
        "\n",
        "      return self.opt_update(i, g, opt_state)\n",
        "\n",
        "  def train(self, dataset, nIter=10000):\n",
        "      res_data = iter(dataset)\n",
        "      pbar =trange(nIter)\n",
        "\n",
        "      for it in pbar:\n",
        "        batch = next(res_data)\n",
        "\n",
        "        self.current_count=next(self.itercount)\n",
        "        self.opt_state = self.step(self.current_count, self.opt_state, batch)\n",
        "\n",
        "        if it % 1000 == 0:\n",
        "          params = self.get_params(self.opt_state)\n",
        "\n",
        "          loss_value = self.loss(params, batch)\n",
        "          boundary_loss = self.boundary_loss(params, batch)\n",
        "          ics_loss = self.ics_loss(params, batch)\n",
        "\n",
        "          _, W_value = self.residuals_and_weights(params, batch, tol)\n",
        "          pbar.set_postfix({\"Loss\": loss_value,\n",
        "                            \"Loss_ics\": ics_loss,\n",
        "                            \"Loss_boundary\": boundary_loss})\n",
        "\n",
        "\n"
      ],
      "metadata": {
        "id": "pNomlj4qKAGA",
        "execution": {
          "iopub.status.busy": "2024-07-08T18:10:11.935554Z",
          "iopub.execute_input": "2024-07-08T18:10:11.935835Z",
          "iopub.status.idle": "2024-07-08T18:10:11.965116Z",
          "shell.execute_reply.started": "2024-07-08T18:10:11.935794Z",
          "shell.execute_reply": "2024-07-08T18:10:11.96417Z"
        },
        "trusted": true
      },
      "execution_count": null,
      "outputs": []
    },
    {
      "cell_type": "code",
      "source": [
        "key = random.PRNGKey(1234)\n",
        "\n",
        "M_x = 5\n",
        "t0 = 0\n",
        "t1 = 1.5\n",
        "n_t = 150\n",
        "n_x = 150\n",
        "\n",
        "d = 2 * M_x + 2\n",
        "tol_list = [1e-3]\n",
        "layers = [2, 128, 128, 128, 1]\n",
        "dataset = DataGenertor(t0, t1, n_t, n_x)\n",
        "\n",
        "N = 1\n",
        "for k in range(N):\n",
        "  print(\"Final Time: {}\".format((k+1) * t1))\n",
        "  model = PINN(key, layers, M_x, t0, t1, n_t, n_x)\n",
        "\n",
        "  for tol in tol_list:\n",
        "    model.tol = tol\n",
        "    print(\"tol: \", model.tol)\n",
        "\n",
        "    model.train(dataset, nIter = 50000)"
      ],
      "metadata": {
        "id": "UwY9kr319p-r",
        "execution": {
          "iopub.status.busy": "2024-07-08T18:15:33.199227Z",
          "iopub.execute_input": "2024-07-08T18:15:33.199562Z",
          "iopub.status.idle": "2024-07-08T18:16:33.389616Z",
          "shell.execute_reply.started": "2024-07-08T18:15:33.199535Z",
          "shell.execute_reply": "2024-07-08T18:16:33.388337Z"
        },
        "trusted": true
      },
      "execution_count": null,
      "outputs": []
    },
    {
      "cell_type": "code",
      "source": [
        "import matplotlib.pyplot as plt\n",
        "import matplotlib.colors as mcolors\n",
        "\n",
        "# Function to plot u predictions over a 2D grid of x and y values\n",
        "def plot_u_2d(model, x_range=(0, t1/t_star), y_range=(0, domain), n_points=1000):\n",
        "    # Generate grid of x and y values\n",
        "    x_values = np.linspace(x_range[0], x_range[1], n_points)\n",
        "    y_values = np.linspace(y_range[0], y_range[1], n_points)\n",
        "\n",
        "\n",
        "    # Get model parameters\n",
        "    params = model.get_params(model.opt_state)\n",
        "\n",
        "    # Predict u values over the grid\n",
        "    u_flat = model.h_pred_fn(params, x_values, y_values)\n",
        "    U = u_flat.reshape(n_points, n_points)\n",
        "\n",
        "    # Plotting\n",
        "    plt.figure(figsize=(8, 6))\n",
        "    plt.contourf(x_values, y_values, U, levels=50, cmap='viridis')\n",
        "    plt.colorbar(label='Predicted h')\n",
        "    plt.xlabel('t')\n",
        "    plt.ylabel('x')\n",
        "    plt.title('Predicted h over 2D grid')\n",
        "    plt.grid(True)\n",
        "    plt.show()\n",
        "\n",
        "# Call the plot function\n",
        "plot_u_2d(model)\n"
      ],
      "metadata": {
        "id": "qH1mkcaaJiy_",
        "execution": {
          "iopub.status.busy": "2024-07-08T18:15:19.74024Z",
          "iopub.status.idle": "2024-07-08T18:15:19.740713Z",
          "shell.execute_reply.started": "2024-07-08T18:15:19.740467Z",
          "shell.execute_reply": "2024-07-08T18:15:19.740488Z"
        },
        "trusted": true
      },
      "execution_count": null,
      "outputs": []
    },
    {
      "cell_type": "code",
      "source": [
        "def plot_u_vs_y_at_x(model, x_values=[0.5], y_min=0, y_max=domain, num_points=100):\n",
        "    # Get the parameters from the trained model\n",
        "    params = model.get_params(model.opt_state)\n",
        "\n",
        "    # Define a range for y values\n",
        "    y_values = np.linspace(y_min, y_max, num_points)\n",
        "\n",
        "    # Plot the results for each x_value\n",
        "    plt.figure(figsize=(10, 6))\n",
        "    for x_value in x_values:\n",
        "        # Predict the u values for the given x and y values\n",
        "        x_vals = np.full_like(y_values, x_value)\n",
        "\n",
        "        # Ensure x_vals and y_values are in the right shape\n",
        "        x_vals = x_vals.reshape(-1)\n",
        "        y_values = y_values.reshape(-1)\n",
        "\n",
        "        # Predict using the model\n",
        "        u_values = model.h_pred_fn(params, x_vals[:, None], y_values[:, None])\n",
        "\n",
        "        # Extract the diagonal of the matrix to get u values at the corresponding y positions\n",
        "        u_values = np.diagonal(u_values)\n",
        "\n",
        "        # Plot the results\n",
        "        plt.plot(y_values, u_values, label=f'h(t={x_value}, x)')\n",
        "\n",
        "    plt.xlabel('x')\n",
        "    plt.ylabel('h')\n",
        "    plt.title('Relationship between h and x at different t values')\n",
        "    plt.legend()\n",
        "    plt.grid(True)\n",
        "    plt.savefig(\"Thin_fim\")\n",
        "    plt.show()\n",
        "\n",
        "\n",
        "# Plot the visualization for different x_values\n",
        "plot_u_vs_y_at_x(model, x_values=[0.1, 0.4, 0.8, 1.0, 1.2, 1.4, 1.5])"
      ],
      "metadata": {
        "id": "sd66UQv8Nkmu",
        "execution": {
          "iopub.status.busy": "2024-07-08T18:15:19.742623Z",
          "iopub.status.idle": "2024-07-08T18:15:19.743085Z",
          "shell.execute_reply.started": "2024-07-08T18:15:19.742852Z",
          "shell.execute_reply": "2024-07-08T18:15:19.742872Z"
        },
        "trusted": true
      },
      "execution_count": null,
      "outputs": []
    },
    {
      "cell_type": "code",
      "source": [],
      "metadata": {
        "id": "epvCydgqqhYY"
      },
      "execution_count": null,
      "outputs": []
    }
  ]
}